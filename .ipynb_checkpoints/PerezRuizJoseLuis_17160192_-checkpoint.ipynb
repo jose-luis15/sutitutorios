{
 "cells": [
  {
   "cell_type": "code",
   "execution_count": 1,
   "metadata": {
    "colab": {
     "base_uri": "https://localhost:8080/",
     "height": 35
    },
    "colab_type": "code",
    "id": "iuMfkjhTDtNM",
    "outputId": "6fb189f6-b3db-4fa8-bc5e-1975ec3323f2"
   },
   "outputs": [
    {
     "name": "stdout",
     "output_type": "stream",
     "text": [
      "720\n"
     ]
    }
   ],
   "source": [
    "# PREGUNTA 1:\n",
    "x = 6\n",
    "import math\n",
    "print(math.factorial(x))"
   ]
  },
  {
   "cell_type": "code",
   "execution_count": 11,
   "metadata": {
    "colab": {
     "base_uri": "https://localhost:8080/",
     "height": 54
    },
    "colab_type": "code",
    "id": "pLD77T8TD21M",
    "outputId": "00912bc8-bc9f-4730-ba2c-8188a47aa35c"
   },
   "outputs": [
    {
     "name": "stdout",
     "output_type": "stream",
     "text": [
      "ingrese el año: 2016\n",
      "2016 es un año biciesto\n"
     ]
    }
   ],
   "source": [
    "# PREGUNTA 2:\n",
    "a = int(input(\"ingrese el año: \"))\n",
    "if a%4 == 0 and a%100 != 0:\n",
    "  print(a,\"es un año bisiesto\")\n",
    "else:\n",
    "  print(\"no es un año bisiesto\")\n",
    "  "
   ]
  },
  {
   "cell_type": "code",
   "execution_count": 3,
   "metadata": {
    "colab": {
     "base_uri": "https://localhost:8080/",
     "height": 35
    },
    "colab_type": "code",
    "id": "nSwxpUjKD3BU",
    "outputId": "fb1d27fb-fc81-494c-9c2a-62f87d4a259e"
   },
   "outputs": [
    {
     "name": "stdout",
     "output_type": "stream",
     "text": [
      "63.61725123519331\n"
     ]
    }
   ],
   "source": [
    "# PREGUNTA 3:\n",
    "import math\n",
    "def radio(x):\n",
    "  v = (4*math.pi*x**3)/3\n",
    "  print(v)\n",
    "  \n",
    "radio(3)"
   ]
  },
  {
   "cell_type": "code",
   "execution_count": 83,
   "metadata": {
    "colab": {
     "base_uri": "https://localhost:8080/",
     "height": 235
    },
    "colab_type": "code",
    "id": "8YEECZKbEfoU",
    "outputId": "7bbb3b6d-4ce0-4e71-8cde-51f6bb6573fb"
   },
   "outputs": [
    {
     "name": "stdout",
     "output_type": "stream",
     "text": [
      "****\n",
      "***\n",
      "**\n",
      "**\n",
      "***\n",
      "****\n",
      "++++\n",
      "+++\n",
      "++\n",
      "++\n",
      "+++\n",
      "++++\n"
     ]
    }
   ],
   "source": [
    "# PREGUNTA 4\n",
    "lista = [\"*\",\"+\"]\n",
    "for x in lista:\n",
    "#   y = x\n",
    "  print(x*4)\n",
    "  print(x*3)\n",
    "  print(x*2)\n",
    "  print(x*2)\n",
    "  print(x*3)\n",
    "  print(x*4)\n",
    "# print(\"*\"*4)\n",
    "# print(\"*\"*3)\n",
    "# print(\"*\"*2)\n",
    "# print(\"*\"*2)\n",
    "# print(\"*\"*3)\n",
    "# print(\"*\"*4)\n",
    "\n",
    "# print(y*4)\n",
    "# print(y*3)\n",
    "# print(y*2)\n",
    "# print(y*2)\n",
    "# print(y*3)\n",
    "# print(y*4)"
   ]
  },
  {
   "cell_type": "code",
   "execution_count": 75,
   "metadata": {
    "colab": {
     "base_uri": "https://localhost:8080/",
     "height": 54
    },
    "colab_type": "code",
    "id": "lwgP9ZNvEfwV",
    "outputId": "184ca113-86fc-4f6e-dc44-5ac12ff0986a"
   },
   "outputs": [
    {
     "name": "stdout",
     "output_type": "stream",
     "text": [
      "ingrese el grado: 73.514\n",
      "73°8´34\n"
     ]
    }
   ],
   "source": [
    "# PREGUNTA 5:\n",
    "import math\n",
    "a = float(input(\"ingrese el grado: \"))\n",
    "b = str(a)\n",
    "b= b.split(\".\")\n",
    "grados = b[0]\n",
    "c = float(int(b[1])/60)\n",
    "c = str(c)\n",
    "c = c.split(\".\")\n",
    "minutos = c[0]\n",
    "segundos = int(b[1])-60*int(minutos)\n",
    "print(\"{}°{}´{}\".format(grados,minutos,segundos))"
   ]
  },
  {
   "cell_type": "code",
   "execution_count": 46,
   "metadata": {
    "colab": {
     "base_uri": "https://localhost:8080/",
     "height": 35
    },
    "colab_type": "code",
    "id": "HD5KztkAN5jz",
    "outputId": "eec88306-8971-43bb-885b-1c546f182a3c"
   },
   "outputs": [
    {
     "name": "stdout",
     "output_type": "stream",
     "text": [
      "[1, 2, 3, 4, 5]\n"
     ]
    }
   ],
   "source": [
    "# PREGUNTA 6:\n",
    "lista = [(2,5),(1,2),(4,4),(2,3),(2,1)]\n",
    "resul = []\n",
    "for x in lista:\n",
    "  y = x[1]\n",
    "  resul.append(y)\n",
    "  resul.sort()\n",
    "print(resul)"
   ]
  },
  {
   "cell_type": "code",
   "execution_count": 53,
   "metadata": {
    "colab": {
     "base_uri": "https://localhost:8080/",
     "height": 90
    },
    "colab_type": "code",
    "id": "0uUNrsVJPxcb",
    "outputId": "88014b9d-d50b-4f57-b058-8198cffe46a0"
   },
   "outputs": [
    {
     "name": "stdout",
     "output_type": "stream",
     "text": [
      "primer lado: 3\n",
      "segundo lado: 3\n",
      "tercer lado: 3\n",
      "el triangulo existe\n"
     ]
    }
   ],
   "source": [
    "# PREGUNTA 7:\n",
    "import math\n",
    "a = int(input(\"primer lado: \"))\n",
    "b = int(input(\"segundo lado: \"))\n",
    "c = int(input(\"tercer lado: \"))\n",
    "if math.fabs(a-b)<c<(a+b) and math.fabs(a-c)<b<(a+c) and math.fabs(c-b)<a<(c+b):\n",
    "  print(\"el triangulo existe\")\n",
    "else:\n",
    "  print(\"el triangulo no existe\")"
   ]
  },
  {
   "cell_type": "code",
   "execution_count": 73,
   "metadata": {
    "colab": {
     "base_uri": "https://localhost:8080/",
     "height": 54
    },
    "colab_type": "code",
    "id": "RJEk0ZKXRs95",
    "outputId": "f1c48bdb-287e-4b03-f690-0466fc897b7f"
   },
   "outputs": [
    {
     "name": "stdout",
     "output_type": "stream",
     "text": [
      "ingrese el ubigeo: 010101\n",
      "AMAZONAS - CHACHAPOYAS - CHACHAPOYAS\n"
     ]
    }
   ],
   "source": [
    "# PREGUNTA 8:\n",
    "import json\n",
    "archivo = open(\"ubigeos.json\",\"r\")\n",
    "contenido = archivo.read()\n",
    "python = json.loads(contenido)\n",
    "\n",
    "ubigeo = input(\"ingrese el ubigeo: \")\n",
    "# print(\"departamento-provincia-distrito\")\n",
    "print(python[ubigeo][\"DEPARTAMENTO\"],\"-\",python[ubigeo][\"PROVINCIA\"],\"-\",python[ubigeo][\"DISTRITO\"])"
   ]
  },
  {
   "cell_type": "code",
   "execution_count": 1,
   "metadata": {
    "colab": {
     "base_uri": "https://localhost:8080/",
     "height": 35
    },
    "colab_type": "code",
    "id": "_LV5vTKHSuED",
    "outputId": "e06ce172-392e-4796-94f5-d2c1b666665d"
   },
   "outputs": [
    {
     "name": "stdout",
     "output_type": "stream",
     "text": [
      "pendiente: 1.0\n"
     ]
    }
   ],
   "source": [
    "# PREGUNTA 9:\n",
    "a = [2,3]\n",
    "b = [4,5]\n",
    "x = a[0] - b[0]\n",
    "y = a[1] - b[1]\n",
    "m = y/x\n",
    "print(\"pendiente:\",m)"
   ]
  },
  {
   "cell_type": "code",
   "execution_count": 58,
   "metadata": {
    "colab": {
     "base_uri": "https://localhost:8080/",
     "height": 35
    },
    "colab_type": "code",
    "id": "BdAjmz5dSuU6",
    "outputId": "39bc58a6-def4-4fe6-9d7b-1fd1f2d3ded4"
   },
   "outputs": [
    {
     "name": "stdout",
     "output_type": "stream",
     "text": [
      "55\n"
     ]
    }
   ],
   "source": [
    "# PREGUNTA 10:\n",
    "n = 5\n",
    "suma_de_cuadrados = 0\n",
    "for x in range(n+1):\n",
    "  suma_de_cuadrados += x**2\n",
    "print(suma_de_cuadrados)"
   ]
  },
  {
   "cell_type": "code",
   "execution_count": 71,
   "metadata": {
    "colab": {
     "base_uri": "https://localhost:8080/",
     "height": 54
    },
    "colab_type": "code",
    "id": "o3In8wjLWA8k",
    "outputId": "80b332c7-648d-4675-937a-f95cdb7a3adc"
   },
   "outputs": [
    {
     "name": "stdout",
     "output_type": "stream",
     "text": [
      "ingrese el nombre del departamento:PASCO\n",
      "la cantidad de provincias es: 1 y la cantidad de distritos es: 1\n"
     ]
    }
   ],
   "source": [
    "# PREGUNTA 11:\n",
    "import json\n",
    "archivo = open(\"departamentos.json\",\"r\")\n",
    "contenido = archivo.read()\n",
    "python = json.loads(contenido)\n",
    "# print(python)\n",
    "\n",
    "departamento = input(\"ingrese el nombre del departamento:\")\n",
    "a = python[departamento][\"PROVINCIA\"]\n",
    "b = a.split()\n",
    "N = len(b)\n",
    "\n",
    "C = python[departamento][\"DISTRITO\"]\n",
    "D = C.split()\n",
    "M = len(D)\n",
    "\n",
    "print(\"la cantidad de provincias es: {} y la cantidad de distritos es: {}\".format(N,M))"
   ]
  }
 ],
 "metadata": {
  "colab": {
   "collapsed_sections": [],
   "name": "Untitled0.ipynb",
   "provenance": [],
   "version": "0.3.2"
  },
  "kernelspec": {
   "display_name": "Python 3",
   "language": "python",
   "name": "python3"
  },
  "language_info": {
   "codemirror_mode": {
    "name": "ipython",
    "version": 3
   },
   "file_extension": ".py",
   "mimetype": "text/x-python",
   "name": "python",
   "nbconvert_exporter": "python",
   "pygments_lexer": "ipython3",
   "version": "3.7.3"
  }
 },
 "nbformat": 4,
 "nbformat_minor": 1
}
