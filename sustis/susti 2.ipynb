{
  "nbformat": 4,
  "nbformat_minor": 0,
  "metadata": {
    "colab": {
      "name": "Untitled16.ipynb",
      "version": "0.3.2",
      "provenance": []
    },
    "kernelspec": {
      "name": "python3",
      "display_name": "Python 3"
    }
  },
  "cells": [
    {
      "cell_type": "code",
      "metadata": {
        "id": "yjKZ5tPoYH7g",
        "colab_type": "code",
        "outputId": "508d7630-5910-4b5b-8abf-3a27984085a6",
        "colab": {
          "base_uri": "https://localhost:8080/",
          "height": 530
        }
      },
      "source": [
        "import pandas as pd\n",
        "data = pd.read_csv(\"hidroquimicaEDACarasi.csv\")\n",
        "data.head()"
      ],
      "execution_count": 9,
      "outputs": [
        {
          "output_type": "execute_result",
          "data": {
            "text/html": [
              "<div>\n",
              "<style scoped>\n",
              "    .dataframe tbody tr th:only-of-type {\n",
              "        vertical-align: middle;\n",
              "    }\n",
              "\n",
              "    .dataframe tbody tr th {\n",
              "        vertical-align: top;\n",
              "    }\n",
              "\n",
              "    .dataframe thead th {\n",
              "        text-align: right;\n",
              "    }\n",
              "</style>\n",
              "<table border=\"1\" class=\"dataframe\">\n",
              "  <thead>\n",
              "    <tr style=\"text-align: right;\">\n",
              "      <th></th>\n",
              "      <th>Nombre del punto</th>\n",
              "      <th>Este</th>\n",
              "      <th>Norte</th>\n",
              "      <th>Altitud</th>\n",
              "      <th>Zona</th>\n",
              "      <th>Datum</th>\n",
              "      <th>Año</th>\n",
              "      <th>Descripción de ubicación</th>\n",
              "      <th>Descripción de figura</th>\n",
              "      <th>Ruta de figura</th>\n",
              "    </tr>\n",
              "  </thead>\n",
              "  <tbody>\n",
              "    <tr>\n",
              "      <th>0</th>\n",
              "      <td>P-1</td>\n",
              "      <td>306059</td>\n",
              "      <td>8312652</td>\n",
              "      <td>4854</td>\n",
              "      <td>19 Sur</td>\n",
              "      <td>WGS84</td>\n",
              "      <td>2017</td>\n",
              "      <td>Piezómetro ubicado en la parte baja del pad Je...</td>\n",
              "      <td>Sulfatada</td>\n",
              "      <td>http://visorsig.oefa.gob.pe/datos_DE/RF/01/HQ/...</td>\n",
              "    </tr>\n",
              "    <tr>\n",
              "      <th>1</th>\n",
              "      <td>SW-03</td>\n",
              "      <td>306983</td>\n",
              "      <td>8313172</td>\n",
              "      <td>4913</td>\n",
              "      <td>19 Sur</td>\n",
              "      <td>WGS84</td>\n",
              "      <td>2017</td>\n",
              "      <td>Filtración que descarga a la mampostería al ma...</td>\n",
              "      <td>Sultada sódica</td>\n",
              "      <td>http://visorsig.oefa.gob.pe/datos_DE/RF/01/HQ/...</td>\n",
              "    </tr>\n",
              "    <tr>\n",
              "      <th>2</th>\n",
              "      <td>EE-9</td>\n",
              "      <td>303000</td>\n",
              "      <td>8313787</td>\n",
              "      <td>4647</td>\n",
              "      <td>19 Sur</td>\n",
              "      <td>WGS84</td>\n",
              "      <td>2017</td>\n",
              "      <td>Quebrada Azufrini, 300 m aguas arriba del tajo...</td>\n",
              "      <td>Sulfatada cálcica</td>\n",
              "      <td>http://visorsig.oefa.gob.pe/datos_DE/RF/01/HQ/...</td>\n",
              "    </tr>\n",
              "    <tr>\n",
              "      <th>3</th>\n",
              "      <td>SW-23</td>\n",
              "      <td>302754</td>\n",
              "      <td>8313670</td>\n",
              "      <td>4617</td>\n",
              "      <td>19 Sur</td>\n",
              "      <td>WGS84</td>\n",
              "      <td>2017</td>\n",
              "      <td>Manantial, surgencia en rocas volcánicas.</td>\n",
              "      <td>Sulfatada magnésica</td>\n",
              "      <td>http://visorsig.oefa.gob.pe/datos_DE/RF/01/HQ/...</td>\n",
              "    </tr>\n",
              "    <tr>\n",
              "      <th>4</th>\n",
              "      <td>SW-24</td>\n",
              "      <td>302490</td>\n",
              "      <td>8313490</td>\n",
              "      <td>4612</td>\n",
              "      <td>19 Sur</td>\n",
              "      <td>WGS84</td>\n",
              "      <td>2017</td>\n",
              "      <td>Manantial a la altura del Tajo Carlos Alto.</td>\n",
              "      <td>Sulfatada cálcica</td>\n",
              "      <td>http://visorsig.oefa.gob.pe/datos_DE/RF/01/HQ/...</td>\n",
              "    </tr>\n",
              "  </tbody>\n",
              "</table>\n",
              "</div>"
            ],
            "text/plain": [
              "  Nombre del punto  ...                                     Ruta de figura\n",
              "0              P-1  ...  http://visorsig.oefa.gob.pe/datos_DE/RF/01/HQ/...\n",
              "1            SW-03  ...  http://visorsig.oefa.gob.pe/datos_DE/RF/01/HQ/...\n",
              "2             EE-9  ...  http://visorsig.oefa.gob.pe/datos_DE/RF/01/HQ/...\n",
              "3            SW-23  ...  http://visorsig.oefa.gob.pe/datos_DE/RF/01/HQ/...\n",
              "4            SW-24  ...  http://visorsig.oefa.gob.pe/datos_DE/RF/01/HQ/...\n",
              "\n",
              "[5 rows x 10 columns]"
            ]
          },
          "metadata": {
            "tags": []
          },
          "execution_count": 9
        }
      ]
    },
    {
      "cell_type": "code",
      "metadata": {
        "id": "fazFpQxpelwh",
        "colab_type": "code",
        "colab": {
          "base_uri": "https://localhost:8080/",
          "height": 564
        },
        "outputId": "99c5f096-7d5f-4a6e-d7bf-e07b4f906a66"
      },
      "source": [
        "data2 = data[(data[\"Descripción de figura\"] == \"Sulfatada cálcica\") & (data[\"Altitud\"] < 4800)]\n",
        "data2. head()"
      ],
      "execution_count": 10,
      "outputs": [
        {
          "output_type": "execute_result",
          "data": {
            "text/html": [
              "<div>\n",
              "<style scoped>\n",
              "    .dataframe tbody tr th:only-of-type {\n",
              "        vertical-align: middle;\n",
              "    }\n",
              "\n",
              "    .dataframe tbody tr th {\n",
              "        vertical-align: top;\n",
              "    }\n",
              "\n",
              "    .dataframe thead th {\n",
              "        text-align: right;\n",
              "    }\n",
              "</style>\n",
              "<table border=\"1\" class=\"dataframe\">\n",
              "  <thead>\n",
              "    <tr style=\"text-align: right;\">\n",
              "      <th></th>\n",
              "      <th>Nombre del punto</th>\n",
              "      <th>Este</th>\n",
              "      <th>Norte</th>\n",
              "      <th>Altitud</th>\n",
              "      <th>Zona</th>\n",
              "      <th>Datum</th>\n",
              "      <th>Año</th>\n",
              "      <th>Descripción de ubicación</th>\n",
              "      <th>Descripción de figura</th>\n",
              "      <th>Ruta de figura</th>\n",
              "    </tr>\n",
              "  </thead>\n",
              "  <tbody>\n",
              "    <tr>\n",
              "      <th>2</th>\n",
              "      <td>EE-9</td>\n",
              "      <td>303000</td>\n",
              "      <td>8313787</td>\n",
              "      <td>4647</td>\n",
              "      <td>19 Sur</td>\n",
              "      <td>WGS84</td>\n",
              "      <td>2017</td>\n",
              "      <td>Quebrada Azufrini, 300 m aguas arriba del tajo...</td>\n",
              "      <td>Sulfatada cálcica</td>\n",
              "      <td>http://visorsig.oefa.gob.pe/datos_DE/RF/01/HQ/...</td>\n",
              "    </tr>\n",
              "    <tr>\n",
              "      <th>4</th>\n",
              "      <td>SW-24</td>\n",
              "      <td>302490</td>\n",
              "      <td>8313490</td>\n",
              "      <td>4612</td>\n",
              "      <td>19 Sur</td>\n",
              "      <td>WGS84</td>\n",
              "      <td>2017</td>\n",
              "      <td>Manantial a la altura del Tajo Carlos Alto.</td>\n",
              "      <td>Sulfatada cálcica</td>\n",
              "      <td>http://visorsig.oefa.gob.pe/datos_DE/RF/01/HQ/...</td>\n",
              "    </tr>\n",
              "    <tr>\n",
              "      <th>11</th>\n",
              "      <td>EW-1</td>\n",
              "      <td>301496</td>\n",
              "      <td>8312011</td>\n",
              "      <td>4563</td>\n",
              "      <td>19 Sur</td>\n",
              "      <td>WGS84</td>\n",
              "      <td>2017</td>\n",
              "      <td>Quebrada sin nombre, ubicada al sureste del bo...</td>\n",
              "      <td>Sulfatada cálcica</td>\n",
              "      <td>http://visorsig.oefa.gob.pe/datos_DE/RF/01/HQ/...</td>\n",
              "    </tr>\n",
              "    <tr>\n",
              "      <th>12</th>\n",
              "      <td>EW-6</td>\n",
              "      <td>301584</td>\n",
              "      <td>8312566</td>\n",
              "      <td>4603</td>\n",
              "      <td>19 Sur</td>\n",
              "      <td>WGS84</td>\n",
              "      <td>2017</td>\n",
              "      <td>Quebrada sin nombre que aporta a un bofedal, u...</td>\n",
              "      <td>Sulfatada cálcica</td>\n",
              "      <td>http://visorsig.oefa.gob.pe/datos_DE/RF/01/HQ/...</td>\n",
              "    </tr>\n",
              "    <tr>\n",
              "      <th>16</th>\n",
              "      <td>PZ-4</td>\n",
              "      <td>300494</td>\n",
              "      <td>8311696</td>\n",
              "      <td>4457</td>\n",
              "      <td>19 Sur</td>\n",
              "      <td>WGS84</td>\n",
              "      <td>2017</td>\n",
              "      <td>Piezómetro ubicado aguas abajo de la confluenc...</td>\n",
              "      <td>Sulfatada cálcica</td>\n",
              "      <td>http://visorsig.oefa.gob.pe/datos_DE/RF/01/HQ/...</td>\n",
              "    </tr>\n",
              "  </tbody>\n",
              "</table>\n",
              "</div>"
            ],
            "text/plain": [
              "   Nombre del punto  ...                                     Ruta de figura\n",
              "2              EE-9  ...  http://visorsig.oefa.gob.pe/datos_DE/RF/01/HQ/...\n",
              "4             SW-24  ...  http://visorsig.oefa.gob.pe/datos_DE/RF/01/HQ/...\n",
              "11             EW-1  ...  http://visorsig.oefa.gob.pe/datos_DE/RF/01/HQ/...\n",
              "12             EW-6  ...  http://visorsig.oefa.gob.pe/datos_DE/RF/01/HQ/...\n",
              "16             PZ-4  ...  http://visorsig.oefa.gob.pe/datos_DE/RF/01/HQ/...\n",
              "\n",
              "[5 rows x 10 columns]"
            ]
          },
          "metadata": {
            "tags": []
          },
          "execution_count": 10
        }
      ]
    },
    {
      "cell_type": "code",
      "metadata": {
        "id": "9T2lboCfbzba",
        "colab_type": "code",
        "outputId": "0d3ababb-24b7-47bd-9472-273e7dfb497b",
        "colab": {
          "base_uri": "https://localhost:8080/",
          "height": 394
        }
      },
      "source": [
        "!pip install fiona\n",
        "!pip install geopandas\n",
        "from geopandas import GeoDataFrame\n",
        "from shapely.geometry import Point\n",
        "import fiona"
      ],
      "execution_count": 11,
      "outputs": [
        {
          "output_type": "stream",
          "text": [
            "Requirement already satisfied: fiona in /usr/local/lib/python3.6/dist-packages (1.8.6)\n",
            "Requirement already satisfied: six>=1.7 in /usr/local/lib/python3.6/dist-packages (from fiona) (1.12.0)\n",
            "Requirement already satisfied: click<8,>=4.0 in /usr/local/lib/python3.6/dist-packages (from fiona) (7.0)\n",
            "Requirement already satisfied: cligj>=0.5 in /usr/local/lib/python3.6/dist-packages (from fiona) (0.5.0)\n",
            "Requirement already satisfied: click-plugins>=1.0 in /usr/local/lib/python3.6/dist-packages (from fiona) (1.1.1)\n",
            "Requirement already satisfied: munch in /usr/local/lib/python3.6/dist-packages (from fiona) (2.3.2)\n",
            "Requirement already satisfied: attrs>=17 in /usr/local/lib/python3.6/dist-packages (from fiona) (19.1.0)\n",
            "Requirement already satisfied: geopandas in /usr/local/lib/python3.6/dist-packages (0.5.1)\n",
            "Requirement already satisfied: pandas in /usr/local/lib/python3.6/dist-packages (from geopandas) (0.24.2)\n",
            "Requirement already satisfied: shapely in /usr/local/lib/python3.6/dist-packages (from geopandas) (1.6.4.post2)\n",
            "Requirement already satisfied: fiona in /usr/local/lib/python3.6/dist-packages (from geopandas) (1.8.6)\n",
            "Requirement already satisfied: pyproj in /usr/local/lib/python3.6/dist-packages (from geopandas) (2.2.1)\n",
            "Requirement already satisfied: numpy>=1.12.0 in /usr/local/lib/python3.6/dist-packages (from pandas->geopandas) (1.16.4)\n",
            "Requirement already satisfied: pytz>=2011k in /usr/local/lib/python3.6/dist-packages (from pandas->geopandas) (2018.9)\n",
            "Requirement already satisfied: python-dateutil>=2.5.0 in /usr/local/lib/python3.6/dist-packages (from pandas->geopandas) (2.5.3)\n",
            "Requirement already satisfied: click-plugins>=1.0 in /usr/local/lib/python3.6/dist-packages (from fiona->geopandas) (1.1.1)\n",
            "Requirement already satisfied: six>=1.7 in /usr/local/lib/python3.6/dist-packages (from fiona->geopandas) (1.12.0)\n",
            "Requirement already satisfied: attrs>=17 in /usr/local/lib/python3.6/dist-packages (from fiona->geopandas) (19.1.0)\n",
            "Requirement already satisfied: click<8,>=4.0 in /usr/local/lib/python3.6/dist-packages (from fiona->geopandas) (7.0)\n",
            "Requirement already satisfied: cligj>=0.5 in /usr/local/lib/python3.6/dist-packages (from fiona->geopandas) (0.5.0)\n",
            "Requirement already satisfied: munch in /usr/local/lib/python3.6/dist-packages (from fiona->geopandas) (2.3.2)\n"
          ],
          "name": "stdout"
        }
      ]
    },
    {
      "cell_type": "code",
      "metadata": {
        "id": "he8j8FOqgerg",
        "colab_type": "code",
        "colab": {}
      },
      "source": [
        "geometry = [Point(xy) for xy in zip(data2.Este, data2.Norte)]"
      ],
      "execution_count": 0,
      "outputs": []
    },
    {
      "cell_type": "code",
      "metadata": {
        "id": "E93qcZ4pgiix",
        "colab_type": "code",
        "colab": {}
      },
      "source": [
        "crs = {\"init\":\"epsg:32719\"}"
      ],
      "execution_count": 0,
      "outputs": []
    },
    {
      "cell_type": "code",
      "metadata": {
        "id": "TXxE0EnygiTx",
        "colab_type": "code",
        "colab": {}
      },
      "source": [
        "geo_df = GeoDataFrame(data2, geometry = geometry, crs=crs)"
      ],
      "execution_count": 0,
      "outputs": []
    },
    {
      "cell_type": "code",
      "metadata": {
        "id": "nXWxS-XLgpug",
        "colab_type": "code",
        "outputId": "9225ab60-f6c9-4b6c-dc8f-f3542d96fbc3",
        "colab": {
          "base_uri": "https://localhost:8080/",
          "height": 259
        }
      },
      "source": [
        "geo_df.plot()"
      ],
      "execution_count": 15,
      "outputs": [
        {
          "output_type": "execute_result",
          "data": {
            "text/plain": [
              "<matplotlib.axes._subplots.AxesSubplot at 0x7f33175af7b8>"
            ]
          },
          "metadata": {
            "tags": []
          },
          "execution_count": 15
        },
        {
          "output_type": "display_data",
          "data": {
            "image/png": "[encoded data removed]",
            "text/plain": [
              "<Figure size 432x288 with 1 Axes>"
            ]
          },
          "metadata": {
            "tags": []
          }
        }
      ]
    },
    {
      "cell_type": "code",
      "metadata": {
        "id": "kNYmRsnWgsIY",
        "colab_type": "code",
        "colab": {}
      },
      "source": [
        "geojson = geo_df.to_crs(epsg=\"4326\").to_json()"
      ],
      "execution_count": 0,
      "outputs": []
    },
    {
      "cell_type": "code",
      "metadata": {
        "id": "FdeJS8jyguuA",
        "colab_type": "code",
        "outputId": "2cd3adf0-3055-439e-c5c5-3ba7a5c4790f",
        "colab": {
          "base_uri": "https://localhost:8080/",
          "height": 613
        }
      },
      "source": [
        "import folium\n",
        "mapa = folium.Map([-15.24,-70.85], zoom_start=12, tiles=\"Stamen Terrain\") #condiciones del mapa\n",
        "puntos = folium.features.GeoJson(geojson) #importamos los puntos(que estan en formato geojson)\n",
        "mapa.add_children(puntos) #añadimos los puntos al mapa creado\n",
        "mapa"
      ],
      "execution_count": 17,
      "outputs": [
        {
          "output_type": "stream",
          "text": [
            "/usr/local/lib/python3.6/dist-packages/ipykernel_launcher.py:4: FutureWarning: Method `add_children` is deprecated. Please use `add_child` instead.\n",
            "  after removing the cwd from sys.path.\n"
          ],
          "name": "stderr"
        },
        {
          "output_type": "execute_result",
          "data": {
            "text/html": [
              "<div style=\"width:100%;\"><div style=\"position:relative;width:100%;height:0;padding-bottom:60%;\"><iframe src=\"data:text/html;charset=utf-8;base64,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\" style=\"position:absolute;width:100%;height:100%;left:0;top:0;border:none !important;\" allowfullscreen webkitallowfullscreen mozallowfullscreen></iframe></div></div>"
            ],
            "text/plain": [
              "<folium.folium.Map at 0x7f3314cedac8>"
            ]
          },
          "metadata": {
            "tags": []
          },
          "execution_count": 17
        }
      ]
    },
    {
      "cell_type": "code",
      "metadata": {
        "id": "OI4KlDl2tu4q",
        "colab_type": "code",
        "colab": {}
      },
      "source": [
        ""
      ],
      "execution_count": 0,
      "outputs": []
    }
  ]
}